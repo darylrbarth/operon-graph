{
 "cells": [
  {
   "cell_type": "code",
   "execution_count": 1,
   "metadata": {},
   "outputs": [
    {
     "name": "stdout",
     "output_type": "stream",
     "text": [
      "/stor/work/Marcotte/project/drbarth/operon-graph\n"
     ]
    }
   ],
   "source": [
    "cd .."
   ]
  },
  {
   "cell_type": "code",
   "execution_count": 2,
   "metadata": {},
   "outputs": [
    {
     "data": {
      "text/plain": [
       "'\\nSimple starter notebook to\\n- Input a config and a data source\\n- Run the operon graph pipeline\\n- View and interact as desired\\n'"
      ]
     },
     "execution_count": 2,
     "metadata": {},
     "output_type": "execute_result"
    }
   ],
   "source": [
    "import time\n",
    "import sys\n",
    "sys.path.insert(0, '.')\n",
    "\n",
    "from src.config import OperonGraphConfig\n",
    "from src.operon_graph import OperonGraph\n",
    "\n",
    "\"\"\"\n",
    "Simple starter notebook to\n",
    "- Input a config and a data source\n",
    "- Run the operon graph pipeline\n",
    "- View and interact as desired\n",
    "\"\"\""
   ]
  },
  {
   "cell_type": "code",
   "execution_count": 3,
   "metadata": {},
   "outputs": [],
   "source": [
    "# Specify config\n",
    "from config.asgard_config import asgard_config1\n",
    "config = asgard_config1\n",
    "\n",
    "# Specify data source\n",
    "input_fasta = './data/All_Asgards_042423.faa' # TODO: Choose smaller test file, possibly E. coli\n"
   ]
  },
  {
   "cell_type": "code",
   "execution_count": 4,
   "metadata": {},
   "outputs": [
    {
     "name": "stdout",
     "output_type": "stream",
     "text": [
      "/stor/work/Marcotte/project/drbarth/operon-graph\n",
      "CompletedProcess(args=['pwd'], returncode=0)\n",
      "data/data_mmseqsDB_clu.tsv already exists, skipping clustering\n",
      "Number of nodes: 707297, example: ['M8_62_Bin_241-M8_62_Bin_241_scaffold_2866_4_15', 'M3_30_Bin_143-M3_30_Bin_143_scaffold_4620_3_51', 'D4993_C5_H3_Bin_486_scaffold_76611_7', 'GCA_014729315_1_ASM1472931v1-WJKD01000912.1_800_4', 'M3_38_Bin_305-M3_38_Bin_305_scaffold_11144_32_12']\n",
      "Number of cluster heads: 231880, example: ['A173-scaffold_k151_1000188_271', 'A173-scaffold_k151_104417_67', 'A173-scaffold_k151_111925_172', 'A173-scaffold_k151_131472_236', 'A173-scaffold_k151_136687_152']\n",
      "Number of scaffolds: 248161, example: A173-scaffold_k151_1000188, ['A173-scaffold_k151_1000188_271']\n",
      "Number of ordered scaffolds: 248161, example: A173-scaffold_k151_1000188, ['A173-scaffold_k151_1000188_271']\n",
      "Number of scaffold pairs: 79424, example: [('D4998_C1112_H2_Bin_233_scaffold_105307', 'D4998_C1112_H2_Bin_233_scaffold_10566'), ('D4998_C1112_H2_Bin_233_scaffold_107838', 'D4998_C1112_H2_Bin_233_scaffold_10921'), ('D4998_C1112_H2_Bin_233_scaffold_152042', 'D4998_C1112_H2_Bin_233_scaffold_15663'), ('D4998_C1112_H2_Bin_233_scaffold_255124', 'D4998_C1112_H2_Bin_233_scaffold_26146'), ('D4998_C1112_H2_Bin_233_scaffold_285201', 'D4998_C1112_H2_Bin_233_scaffold_28841')]\n",
      "Number of edges: 79424, example: [('BHB10_26_Bin_165_clean-BHB10_26_Bin_165_scaffold_135114_182', 'D4991_C11_H1_Bin_181_scaffold_70436'), ('GCA_018238925_1_ASM1823892v1-JABCSK010000161.1_56', 'D4998_C1112_H2_Bin_233_scaffold_10921'), ('SRVP_Freyarchaeota_final_genome-New_Freya_genome_for_curation_rev_3_marked_gaps_check_remap_1', 'Meg19_1012_Bin_106-Meg19_1012_Bin_106_scaffold_80188_75'), ('D4991_C11_H1_Bin_188_scaffold_101952', 'D4993_C5_H2_Bin_518_scaffold_114476'), ('M8_58_Bin_177-M8_58_Bin_177_scaffold_35160_92', 'GCA_011365025_1_ASM1136502v1-RDOF01000008.1_89')]\n",
      "Number of edge weights: 77336, example: [('BHB10_26_Bin_165_clean-BHB10_26_Bin_165_scaffold_135114_182', 'D4991_C11_H1_Bin_181_scaffold_70436'), ('GCA_018238925_1_ASM1823892v1-JABCSK010000161.1_56', 'D4998_C1112_H2_Bin_233_scaffold_10921'), ('SRVP_Freyarchaeota_final_genome-New_Freya_genome_for_curation_rev_3_marked_gaps_check_remap_1', 'Meg19_1012_Bin_106-Meg19_1012_Bin_106_scaffold_80188_75'), ('D4991_C11_H1_Bin_188_scaffold_101952', 'D4993_C5_H2_Bin_518_scaffold_114476'), ('M8_58_Bin_177-M8_58_Bin_177_scaffold_35160_92', 'GCA_011365025_1_ASM1136502v1-RDOF01000008.1_89')]\n",
      "Number of weighted edges: 77336, example: [('BHB10_26_Bin_165_clean-BHB10_26_Bin_165_scaffold_135114_182', 'D4991_C11_H1_Bin_181_scaffold_70436', {'abs_weight': 1, 'norm_weight': 0.00026068821689259646}), ('GCA_018238925_1_ASM1823892v1-JABCSK010000161.1_56', 'D4998_C1112_H2_Bin_233_scaffold_10921', {'abs_weight': 1, 'norm_weight': 0.0002041649652919559}), ('SRVP_Freyarchaeota_final_genome-New_Freya_genome_for_curation_rev_3_marked_gaps_check_remap_1', 'Meg19_1012_Bin_106-Meg19_1012_Bin_106_scaffold_80188_75', {'abs_weight': 1, 'norm_weight': 8.135372600065082e-06}), ('D4991_C11_H1_Bin_188_scaffold_101952', 'D4993_C5_H2_Bin_518_scaffold_114476', {'abs_weight': 1, 'norm_weight': 0.00013227513227513228}), ('M8_58_Bin_177-M8_58_Bin_177_scaffold_35160_92', 'GCA_011365025_1_ASM1136502v1-RDOF01000008.1_89', {'abs_weight': 1, 'norm_weight': 0.00012531328320802005})]\n",
      "Saving graph to data/graphs/updated_All_Asgards_042423.gml\n",
      "Execution time: 18.14931344985962 seconds\n",
      "Done!\n"
     ]
    }
   ],
   "source": [
    "# Run the pipeline\n",
    "\n",
    "start_time = time.time()\n",
    "\n",
    "#later OperonGraphConfig.from_json and then pass in the json filepath!\n",
    "#config = OperonGraphConfig(config)\n",
    "\n",
    "#input_fasta = '/stor/work/Marcotte/project/drbarth/plastics/reference/Guaymas_mining/Guaymas2020/05.reference/Guaymas2020_Scaffolds_Bins_deduplicated_hottest_greaterthan80C.faa' # TODO: Choose smaller test file, possibly E. coli\n",
    "operon_graph = OperonGraph(config)\n",
    "G = operon_graph.run(input_fasta)\n",
    "\n",
    "#Save graph\n",
    "operon_graph.save_graph()\n",
    "\n",
    "elapsed_time = time.time() - start_time\n",
    "print(f\"Execution time: {elapsed_time} seconds\")\n",
    "print('Done!')"
   ]
  },
  {
   "cell_type": "markdown",
   "metadata": {},
   "source": [
    "## Explore!"
   ]
  },
  {
   "cell_type": "code",
   "execution_count": null,
   "metadata": {},
   "outputs": [],
   "source": [
    "G.draw()"
   ]
  }
 ],
 "metadata": {
  "kernelspec": {
   "display_name": "Python 3 (ipykernel)",
   "language": "python",
   "name": "python3"
  },
  "language_info": {
   "codemirror_mode": {
    "name": "ipython",
    "version": 3
   },
   "file_extension": ".py",
   "mimetype": "text/x-python",
   "name": "python",
   "nbconvert_exporter": "python",
   "pygments_lexer": "ipython3",
   "version": "3.10.12"
  }
 },
 "nbformat": 4,
 "nbformat_minor": 4
}
