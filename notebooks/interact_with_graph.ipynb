{
 "cells": [
  {
   "cell_type": "code",
   "execution_count": 1,
   "metadata": {},
   "outputs": [
    {
     "name": "stdout",
     "output_type": "stream",
     "text": [
      "/Users/nathanmandi/Repos/operon-graph\n"
     ]
    }
   ],
   "source": [
    "cd .."
   ]
  },
  {
   "cell_type": "code",
   "execution_count": 2,
   "metadata": {},
   "outputs": [
    {
     "data": {
      "text/plain": [
       "'\\nSimple starter notebook to\\n- Input a config and a data source\\n- Run the operon graph pipeline\\n- View and interact as desired\\n'"
      ]
     },
     "execution_count": 2,
     "metadata": {},
     "output_type": "execute_result"
    }
   ],
   "source": [
    "import time\n",
    "import sys\n",
    "sys.path.insert(0, '.')\n",
    "\n",
    "from src.config import OperonGraphConfig\n",
    "from src.operon_graph import OperonGraph\n",
    "\n",
    "\"\"\"\n",
    "Simple starter notebook to\n",
    "- Input a config and a data source\n",
    "- Run the operon graph pipeline\n",
    "- View and interact as desired\n",
    "\"\"\""
   ]
  },
  {
   "cell_type": "code",
   "execution_count": null,
   "metadata": {},
   "outputs": [],
   "source": [
    "# Specify config\n",
    "from config import sample_config1\n",
    "config = sample_config1\n",
    "\n",
    "# Specify data source\n",
    "input_fasta = '/stor/work/Marcotte/project/drbarth/plastics/reference/Guaymas_mining/Guaymas2020/05.reference/Guaymas2020_Scaffolds_Bins_deduplicated_hottest_greaterthan80C.faa' # TODO: Choose smaller test file, possibly E. coli\n"
   ]
  },
  {
   "cell_type": "code",
   "execution_count": null,
   "metadata": {},
   "outputs": [],
   "source": [
    "# Run the pipeline\n",
    "\n",
    "start_time = time.time()\n",
    "\n",
    "config = OperonGraphConfig(config)\n",
    "\n",
    "input_fasta = '/stor/work/Marcotte/project/drbarth/plastics/reference/Guaymas_mining/Guaymas2020/05.reference/Guaymas2020_Scaffolds_Bins_deduplicated_hottest_greaterthan80C.faa' # TODO: Choose smaller test file, possibly E. coli\n",
    "operon_graph = OperonGraph(config)\n",
    "G = operon_graph.run(input_fasta)\n",
    "\n",
    "#Save graph\n",
    "operon_graph.save_graph()\n",
    "\n",
    "elapsed_time = time.time() - start_time\n",
    "print(f\"Execution time: {elapsed_time} seconds\")\n",
    "print('Done!')"
   ]
  },
  {
   "cell_type": "markdown",
   "metadata": {},
   "source": [
    "## Explore!"
   ]
  },
  {
   "cell_type": "code",
   "execution_count": null,
   "metadata": {},
   "outputs": [],
   "source": [
    "G.draw()"
   ]
  }
 ],
 "metadata": {
  "kernelspec": {
   "display_name": "py10",
   "language": "python",
   "name": "python3"
  },
  "language_info": {
   "codemirror_mode": {
    "name": "ipython",
    "version": 3
   },
   "file_extension": ".py",
   "mimetype": "text/x-python",
   "name": "python",
   "nbconvert_exporter": "python",
   "pygments_lexer": "ipython3",
   "version": "3.10.13"
  }
 },
 "nbformat": 4,
 "nbformat_minor": 2
}
