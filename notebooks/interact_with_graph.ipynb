{
 "cells": [
  {
   "cell_type": "code",
   "execution_count": 1,
   "metadata": {},
   "outputs": [
    {
     "name": "stdout",
     "output_type": "stream",
     "text": [
      "/stor/work/Marcotte/project/drbarth/operon-graph\n"
     ]
    }
   ],
   "source": [
    "cd .."
   ]
  },
  {
   "cell_type": "code",
   "execution_count": 2,
   "metadata": {},
   "outputs": [
    {
     "data": {
      "text/plain": [
       "'\\nSimple starter notebook to\\n- Input a config and a data source\\n- Run the operon graph pipeline\\n- View and interact as desired\\n'"
      ]
     },
     "execution_count": 2,
     "metadata": {},
     "output_type": "execute_result"
    }
   ],
   "source": [
    "import time\n",
    "import sys\n",
    "sys.path.insert(0, '.')\n",
    "\n",
    "from src.config import OperonGraphConfig\n",
    "from src.operon_graph import OperonGraph\n",
    "\n",
    "\"\"\"\n",
    "Simple starter notebook to\n",
    "- Input a config and a data source\n",
    "- Run the operon graph pipeline\n",
    "- View and interact as desired\n",
    "\"\"\""
   ]
  },
  {
   "cell_type": "code",
   "execution_count": 3,
   "metadata": {},
   "outputs": [],
   "source": [
    "# Specify config\n",
    "from config.asgard_config import asgard_config1\n",
    "config = asgard_config1\n",
    "\n",
    "# Specify data source\n",
    "input_fasta = './data/All_Asgards_042423.faa' # TODO: Choose smaller test file, possibly E. coli\n"
   ]
  },
  {
   "cell_type": "code",
   "execution_count": 4,
   "metadata": {},
   "outputs": [
    {
     "name": "stdout",
     "output_type": "stream",
     "text": [
      "/stor/work/Marcotte/project/drbarth/operon-graph\n",
      "CompletedProcess(args=['pwd'], returncode=0)\n",
      "data/All_Asgards_042423_mmseqsDB_clu.tsv already exists, skipping clustering\n",
      "Number of nodes: 707297, example: ['M3_38_Bin_28_clean-M3_38_Bin_28_scaffold_85_2_187', 'GCA_016926735_1_ASM1692673v1-JAFGOA010000071.1_100_46', 'GCA_016926735_1_ASM1692673v1-JAFGOA010000106.1_146_10', 'Meg22_1618_Bin_161-Meg22_1618_Bin_161_scaffold_80167_647_1', 'GCA_019058475_1_ASM1905847v1-JAHPZB010000038.1_38_8']\n",
      "Number of cluster heads: 231880, example: ['A173-scaffold_k151_1000188_271', 'A173-scaffold_k151_104417_67', 'A173-scaffold_k151_111925_172', 'A173-scaffold_k151_131472_236', 'A173-scaffold_k151_136687_152']\n",
      "Number of scaffolds: 248161, example: A173-scaffold_k151_1000188, ['A173-scaffold_k151_1000188_271']\n",
      "Number of ordered scaffolds: 248161, example: A173-scaffold_k151_1000188, ['A173-scaffold_k151_1000188_271']\n",
      "Number of scaffold pairs: 141627, example: [('D4998_C1112_H2_Bin_233_scaffold_105307', 'D4998_C1112_H2_Bin_233_scaffold_10566'), ('D4998_C1112_H2_Bin_233_scaffold_107838', 'D4998_C1112_H2_Bin_233_scaffold_10921'), ('D4998_C1112_H2_Bin_233_scaffold_152042', 'D4998_C1112_H2_Bin_233_scaffold_15663'), ('D4998_C1112_H2_Bin_233_scaffold_255124', 'D4998_C1112_H2_Bin_233_scaffold_26146'), ('D4998_C1112_H2_Bin_233_scaffold_285201', 'D4998_C1112_H2_Bin_233_scaffold_28841')]\n",
      "Number of edges: 141627, example: [('BHB10_26_Bin_165_clean-BHB10_26_Bin_165_scaffold_135114_182', 'GCA_011365025_1_ASM1136502v1-RDOF01000006.1_71'), ('OWC_Bin5-OWC_Bin5_NODE__6_length_107835_cov_4.32975_57', 'D4998_C1112_H2_Bin_233_scaffold_10921'), ('D4998_C1112_H2_Bin_233_scaffold_152042', 'D4998_C1112_H2_Bin_233_scaffold_15663'), ('D4993_C5_LG_Bin_292_scaffold_57586', 'GCA_016840845_1_ASM1684084v1-JAEORP010000792.1_768'), ('M8_62_Bin_212-M8_62_Bin_212_scaffold_3603_47', 'GCA_016840825_1_ASM1684082v1-JAEORN010000104.1_40')]\n",
      "Number of edge weights: 136596, example: [('BHB10_26_Bin_165_clean-BHB10_26_Bin_165_scaffold_135114_182', 'GCA_011365025_1_ASM1136502v1-RDOF01000006.1_71'), ('OWC_Bin5-OWC_Bin5_NODE__6_length_107835_cov_4.32975_57', 'D4998_C1112_H2_Bin_233_scaffold_10921'), ('D4998_C1112_H2_Bin_233_scaffold_152042', 'D4998_C1112_H2_Bin_233_scaffold_15663'), ('D4993_C5_LG_Bin_292_scaffold_57586', 'GCA_016840845_1_ASM1684084v1-JAEORP010000792.1_768'), ('M8_62_Bin_212-M8_62_Bin_212_scaffold_3603_47', 'GCA_016840825_1_ASM1684082v1-JAEORN010000104.1_40')]\n",
      "Number of weighted edges: 136596, example: [('BHB10_26_Bin_165_clean-BHB10_26_Bin_165_scaffold_135114_182', 'GCA_011365025_1_ASM1136502v1-RDOF01000006.1_71', {'abs_weight': 1, 'norm_weight': 3.443051921222972e-05}), ('OWC_Bin5-OWC_Bin5_NODE__6_length_107835_cov_4.32975_57', 'D4998_C1112_H2_Bin_233_scaffold_10921', {'abs_weight': 1, 'norm_weight': 6.063545961678389e-05}), ('D4998_C1112_H2_Bin_233_scaffold_152042', 'D4998_C1112_H2_Bin_233_scaffold_15663', {'abs_weight': 1, 'norm_weight': 0.001567398119122257}), ('D4993_C5_LG_Bin_292_scaffold_57586', 'GCA_016840845_1_ASM1684084v1-JAEORP010000792.1_768', {'abs_weight': 1, 'norm_weight': 6.135722174499939e-05}), ('M8_62_Bin_212-M8_62_Bin_212_scaffold_3603_47', 'GCA_016840825_1_ASM1684082v1-JAEORN010000104.1_40', {'abs_weight': 1, 'norm_weight': 2.0773177672988636e-05})]\n",
      "Saving graph to data/graphs/20_operonic_updated_undirected_All_Asgards_042423.gml\n",
      "Execution time: 19.027726650238037 seconds\n",
      "Done!\n"
     ]
    }
   ],
   "source": [
    "# Run the pipeline\n",
    "\n",
    "start_time = time.time()\n",
    "\n",
    "#later OperonGraphConfig.from_json and then pass in the json filepath!\n",
    "#config = OperonGraphConfig(config)\n",
    "\n",
    "#input_fasta = '/stor/work/Marcotte/project/drbarth/plastics/reference/Guaymas_mining/Guaymas2020/05.reference/Guaymas2020_Scaffolds_Bins_deduplicated_hottest_greaterthan80C.faa' # TODO: Choose smaller test file, possibly E. coli\n",
    "operon_graph = OperonGraph(config)\n",
    "G = operon_graph.run(input_fasta)\n",
    "\n",
    "#Save graph\n",
    "operon_graph.save_graph()\n",
    "\n",
    "elapsed_time = time.time() - start_time\n",
    "print(f\"Execution time: {elapsed_time} seconds\")\n",
    "print('Done!')"
   ]
  },
  {
   "cell_type": "markdown",
   "metadata": {},
   "source": [
    "## Explore!"
   ]
  },
  {
   "cell_type": "code",
   "execution_count": 6,
   "metadata": {},
   "outputs": [
    {
     "ename": "AttributeError",
     "evalue": "'DiGraph' object has no attribute 'draw'",
     "output_type": "error",
     "traceback": [
      "\u001b[0;31m---------------------------------------------------------------------------\u001b[0m",
      "\u001b[0;31mAttributeError\u001b[0m                            Traceback (most recent call last)",
      "Cell \u001b[0;32mIn[6], line 1\u001b[0m\n\u001b[0;32m----> 1\u001b[0m \u001b[43mG\u001b[49m\u001b[38;5;241;43m.\u001b[39;49m\u001b[43mdraw\u001b[49m()\n",
      "\u001b[0;31mAttributeError\u001b[0m: 'DiGraph' object has no attribute 'draw'"
     ]
    }
   ],
   "source": [
    "G.draw()"
   ]
  },
  {
   "cell_type": "code",
   "execution_count": null,
   "metadata": {},
   "outputs": [],
   "source": []
  }
 ],
 "metadata": {
  "kernelspec": {
   "display_name": "py10",
   "language": "python",
   "name": "python3"
  },
  "language_info": {
   "codemirror_mode": {
    "name": "ipython",
    "version": 3
   },
   "file_extension": ".py",
   "mimetype": "text/x-python",
   "name": "python",
   "nbconvert_exporter": "python",
   "pygments_lexer": "ipython3",
   "version": "3.8.11"
  }
 },
 "nbformat": 4,
 "nbformat_minor": 2
}
