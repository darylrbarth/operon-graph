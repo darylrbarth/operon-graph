{
 "cells": [
  {
   "cell_type": "code",
   "execution_count": null,
   "metadata": {},
   "outputs": [],
   "source": [
    "import matplotlib.pyplot as plt\n",
    "import pandas as pd\n",
    "import networkx as nx\n",
    "from networkx import gml"
   ]
  },
  {
   "cell_type": "code",
   "execution_count": null,
   "metadata": {},
   "outputs": [],
   "source": [
    "#Input files\n",
    "cluster_fp = \"cluster.tsv\"\n",
    "graph_fp = \"graph.gml\" "
   ]
  },
  {
   "cell_type": "code",
   "execution_count": null,
   "metadata": {},
   "outputs": [],
   "source": [
    "#Get the node that includes the desired protein\n",
    "def get_node_by_protein(protein, cluster_tsv):\n",
    "    cluster_df = pd.read_csv(cluster_tsv, sep=\"\\t\", header=None, colnames=[\"Node\", \"Protein\"])\n",
    "    cluster_df = cluster_df[cluster_df[\"Protein\"] == protein]\n",
    "    return cluster_df[\"Node\"].values[0]\n",
    "\n",
    "def get_node_neighborhood(graph_gml, node):\n",
    "    G = nx.read_gml(graph_gml)\n",
    "    return list(G.neighbors(node))\n",
    "\n",
    "def output_cosmograph_tsv(cluster_tsv, graph_gml, protein):\n",
    "    node = get_node_by_protein(protein, cluster_tsv)\n",
    "    neighborhood = get_node_neighborhood(graph_gml, node)\n",
    "    neighborhood.append(node)\n",
    "    with open(\"cosmograph.tsv\", \"w\") as f:\n",
    "        f.write(\"Node\\tProtein\\n\")\n",
    "        for n in neighborhood:\n",
    "            f.write(f\"{n}\\t{protein}\\n\")"
   ]
  },
  {
   "cell_type": "code",
   "execution_count": null,
   "metadata": {},
   "outputs": [],
   "source": [
    "#Read in graph!\n",
    "G = gml.read_gml('data/GRAPH_ALL_Guaymas2020_hottest_clu30_May62024.gml')"
   ]
  },
  {
   "cell_type": "code",
   "execution_count": null,
   "metadata": {},
   "outputs": [],
   "source": [
    "#Get me an ego graph!!\n",
    "Guapo_G = nx.ego_graph(G, 'D4994_C39_H1-scaffold_122948_1', radius=4)"
   ]
  },
  {
   "cell_type": "code",
   "execution_count": null,
   "metadata": {},
   "outputs": [],
   "source": [
    "#Write out smol graph to tsvs for cosmograph! \n",
    "output_nodes_tsv = 'data/GuaPO_clu30_nodes.tsv'\n",
    "output_edges_tsv = 'data/GuaPO_clu30_edges.tsv'\n",
    "\n",
    "with open(output_nodes_tsv, 'w') as node_file:\n",
    "    node_file.write(\"NodeId\\tlabel\\n\")  # Modify based on your node attributes\n",
    "    for node, data in Guapo_G.nodes(data=True):\n",
    "        # Write node and attributes to the file, ensure attributes match what's in your graph\n",
    "        node_file.write(f\"{node}\\t{data.get('label', '')}\\n\")\n",
    "print(f'saved nodes to {output_nodes_tsv}')\n",
    "# Open a file to write the edge data\n",
    "with open(output_edges_tsv, 'w') as edge_file:\n",
    "    edge_file.write(\"Source\\tTarget\\tWeight\\n\")  # Modify if you have different or additional attributes\n",
    "    for source, target, data in Guapo_G.edges(data=True):\n",
    "        # Write edge and attributes to the file, ensure attributes match what's in your graph\n",
    "        edge_file.write(f\"{source}\\t{target}\\t{data.get('weight', '')}\\n\")\n",
    "print(f'saved edges to {output_edges_tsv}')"
   ]
  },
  {
   "cell_type": "markdown",
   "metadata": {},
   "source": [
    "Code snippet to make a shuffled fasta for making the test set: "
   ]
  },
  {
   "cell_type": "code",
   "execution_count": 1,
   "metadata": {},
   "outputs": [],
   "source": [
    "from Bio import SeqIO\n",
    "import random\n",
    "\n",
    "# Load your FASTA file\n",
    "file_path = '../data/All_Asgards_042423.faa'\n",
    "\n",
    "# Read all sequences into a list\n",
    "records = list(SeqIO.parse(file_path, 'fasta'))\n",
    "\n",
    "# Shuffle the list of records\n",
    "random.shuffle(records)\n",
    "\n",
    "# Write the shuffled records to a new file\n",
    "shuffled_file_path = 'shuffled.fasta'\n",
    "with open(shuffled_file_path, 'w') as output_handle:\n",
    "    SeqIO.write(records, output_handle, 'fasta')\n"
   ]
  },
  {
   "cell_type": "code",
   "execution_count": null,
   "metadata": {},
   "outputs": [],
   "source": []
  },
  {
   "cell_type": "markdown",
   "metadata": {},
   "source": []
  }
 ],
 "metadata": {
  "kernelspec": {
   "display_name": "Python 3",
   "language": "python",
   "name": "python3"
  },
  "language_info": {
   "codemirror_mode": {
    "name": "ipython",
    "version": 3
   },
   "file_extension": ".py",
   "mimetype": "text/x-python",
   "name": "python",
   "nbconvert_exporter": "python",
   "pygments_lexer": "ipython3",
   "version": "3.8.11"
  }
 },
 "nbformat": 4,
 "nbformat_minor": 2
}
