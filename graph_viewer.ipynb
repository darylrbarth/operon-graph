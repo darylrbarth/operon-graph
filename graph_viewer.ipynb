{
 "cells": [
  {
   "cell_type": "code",
   "execution_count": 1,
   "metadata": {},
   "outputs": [],
   "source": [
    "import matplotlib.pyplot as plt\n",
    "import pandas as pd\n",
    "import networkx as nx\n",
    "from networkx import gml"
   ]
  },
  {
   "cell_type": "code",
   "execution_count": 2,
   "metadata": {},
   "outputs": [],
   "source": [
    "#graph = gml.read_gml('data/prot_clust_test.fasta.gml')\n",
    "#nx.draw(graph, with_labels=True)\n",
    "#plt.show()"
   ]
  },
  {
   "cell_type": "code",
   "execution_count": 2,
   "metadata": {},
   "outputs": [
    {
     "data": {
      "text/html": [
       "<div>\n",
       "<style scoped>\n",
       "    .dataframe tbody tr th:only-of-type {\n",
       "        vertical-align: middle;\n",
       "    }\n",
       "\n",
       "    .dataframe tbody tr th {\n",
       "        vertical-align: top;\n",
       "    }\n",
       "\n",
       "    .dataframe thead th {\n",
       "        text-align: right;\n",
       "    }\n",
       "</style>\n",
       "<table border=\"1\" class=\"dataframe\">\n",
       "  <thead>\n",
       "    <tr style=\"text-align: right;\">\n",
       "      <th></th>\n",
       "      <th>1</th>\n",
       "    </tr>\n",
       "    <tr>\n",
       "      <th>0</th>\n",
       "      <th></th>\n",
       "    </tr>\n",
       "  </thead>\n",
       "  <tbody>\n",
       "    <tr>\n",
       "      <th>D4993_C5_H2-scaffold_520657_6</th>\n",
       "      <td>4472</td>\n",
       "    </tr>\n",
       "    <tr>\n",
       "      <th>D4994_C39_H1-scaffold_304634_8</th>\n",
       "      <td>3306</td>\n",
       "    </tr>\n",
       "    <tr>\n",
       "      <th>D4991_C11_H1-scaffold_35163_3</th>\n",
       "      <td>2636</td>\n",
       "    </tr>\n",
       "    <tr>\n",
       "      <th>D4994_C39_H1-scaffold_707_4</th>\n",
       "      <td>2551</td>\n",
       "    </tr>\n",
       "    <tr>\n",
       "      <th>D4998_C1112_H2-scaffold_244671_4</th>\n",
       "      <td>2296</td>\n",
       "    </tr>\n",
       "  </tbody>\n",
       "</table>\n",
       "</div>"
      ],
      "text/plain": [
       "                                     1\n",
       "0                                     \n",
       "D4993_C5_H2-scaffold_520657_6     4472\n",
       "D4994_C39_H1-scaffold_304634_8    3306\n",
       "D4991_C11_H1-scaffold_35163_3     2636\n",
       "D4994_C39_H1-scaffold_707_4       2551\n",
       "D4998_C1112_H2-scaffold_244671_4  2296"
      ]
     },
     "execution_count": 2,
     "metadata": {},
     "output_type": "execute_result"
    }
   ],
   "source": [
    "#Looking into the number of mmseqs clusters\n",
    "#Went from 8,891,271 proteins to 4,328,200 clusters so about cut it in half, clustered at 50%, still lots of singleton clusters, could cluster at 30% instead? Maybe just go ahead and do that? \n",
    "import pandas as pd\n",
    "#Read in the cluster tsv file\n",
    "clusters = pd.read_csv('data/allScaffoldsGuaymas2020_clu30.tsv', sep='\\t', header=None)\n",
    "clusters.head()\n",
    "#Group by the cluster number and count the number of sequences in each cluster\n",
    "cluster_counts = clusters.groupby(0).count()\n",
    "cluster_counts.head()\n",
    "#Sort the clusters by the number of sequences\n",
    "cluster_counts.sort_values(by=1, ascending=False, inplace=True)\n",
    "cluster_counts.head()\n"
   ]
  },
  {
   "cell_type": "code",
   "execution_count": 3,
   "metadata": {},
   "outputs": [
    {
     "data": {
      "image/png": "[encoded data removed]",
      "text/plain": [
       "<Figure size 640x480 with 1 Axes>"
      ]
     },
     "metadata": {},
     "output_type": "display_data"
    }
   ],
   "source": [
    "#Plot histogram of the number of sequences in each cluster\n",
    "plt.hist(cluster_counts[1], bins=100)\n",
    "#Make y axis log scale\n",
    "plt.yscale('log')\n",
    "plt.xlabel('Number of sequences in cluster')\n",
    "plt.ylabel('Number of clusters')\n",
    "plt.title('Guaymas2020 Scaffolds, 30% mmseqs Clusters')\n",
    "#plt.title('Guaymas over 80$^\\circ$C 50% mmseqs Clusters ')\n",
    "plt.show()\n",
    "#Write plot to png\n",
    "#plt.savefig('data/Guaymas_over_80C_50mmseqs_clusters_histogram.png')\n"
   ]
  },
  {
   "cell_type": "code",
   "execution_count": 4,
   "metadata": {},
   "outputs": [
    {
     "data": {
      "text/plain": [
       "(7368354, 1)"
      ]
     },
     "execution_count": 4,
     "metadata": {},
     "output_type": "execute_result"
    }
   ],
   "source": [
    "cluster_counts.shape\n"
   ]
  },
  {
   "cell_type": "markdown",
   "metadata": {},
   "source": [
    "## Get the highest weighted edges from the Graph"
   ]
  },
  {
   "cell_type": "code",
   "execution_count": 5,
   "metadata": {},
   "outputs": [
    {
     "name": "stdout",
     "output_type": "stream",
     "text": [
      "[('D4998_C1112_H1-scaffold_279718_47', 'D4998_C1112_H1-scaffold_279718_48', 0.004784688995215311), ('D4991_C11_H1-scaffold_149144_11', 'D4991_C11_H1-scaffold_149144_14', 0.0044444444444444444), ('D4991_C11_H1-scaffold_4194_1', 'D4991_C11_H1-scaffold_4194_4', 0.0044444444444444444), ('D4991_C11_H1-scaffold_111499_11', 'D4991_C11_H1-scaffold_111499_14', 0.0044444444444444444), ('D4991_C11_H1-scaffold_91494_1', 'D4991_C11_H1-scaffold_91494_4', 0.0044444444444444444)]\n"
     ]
    }
   ],
   "source": [
    "# Load the .gml file\n",
    "G = nx.read_gml('data/GRAPH_allScaffoldsGuaymas2020_clu30_operonicdistance_alltoall.gml')\n",
    "\n",
    "# Get all edges with weights\n",
    "edges_with_weights = [(u, v, data['weight']) for u, v, data in G.edges(data=True)]\n",
    "\n",
    "# Sort edges by weight in descending order\n",
    "edges_with_weights.sort(key=lambda x: x[2], reverse=True)"
   ]
  },
  {
   "cell_type": "code",
   "execution_count": null,
   "metadata": {},
   "outputs": [],
   "source": [
    "# Get the top n highest weights\n",
    "n = 5  # You can change this to whatever number of top weights you want\n",
    "top_n_edges = edges_with_weights[:n]\n",
    "print(top_n_edges)"
   ]
  },
  {
   "cell_type": "markdown",
   "metadata": {},
   "source": [
    "#### Blasting the top 5 weighted edges to figure out what they are!"
   ]
  },
  {
   "cell_type": "code",
   "execution_count": 12,
   "metadata": {},
   "outputs": [
    {
     "ename": "ValueError",
     "evalue": "More than one record found in handle",
     "output_type": "error",
     "traceback": [
      "\u001b[0;31m---------------------------------------------------------------------------\u001b[0m",
      "\u001b[0;31mValueError\u001b[0m                                Traceback (most recent call last)",
      "Cell \u001b[0;32mIn[12], line 5\u001b[0m\n\u001b[1;32m      2\u001b[0m \u001b[38;5;28;01mfrom\u001b[39;00m \u001b[38;5;21;01mBio\u001b[39;00m \u001b[38;5;28;01mimport\u001b[39;00m SeqIO\n\u001b[1;32m      4\u001b[0m \u001b[38;5;66;03m# Load protein sequence\u001b[39;00m\n\u001b[0;32m----> 5\u001b[0m sequence \u001b[38;5;241m=\u001b[39m \u001b[43mSeqIO\u001b[49m\u001b[38;5;241;43m.\u001b[39;49m\u001b[43mread\u001b[49m\u001b[43m(\u001b[49m\u001b[38;5;124;43m\"\u001b[39;49m\u001b[38;5;124;43mdata/reference/Guaymas2020_allScaffolds_top5weightededges.fasta\u001b[39;49m\u001b[38;5;124;43m\"\u001b[39;49m\u001b[43m,\u001b[49m\u001b[43m \u001b[49m\u001b[38;5;28;43mformat\u001b[39;49m\u001b[38;5;241;43m=\u001b[39;49m\u001b[38;5;124;43m\"\u001b[39;49m\u001b[38;5;124;43mfasta\u001b[39;49m\u001b[38;5;124;43m\"\u001b[39;49m\u001b[43m)\u001b[49m\n\u001b[1;32m      6\u001b[0m sequence\u001b[38;5;241m.\u001b[39mseq\n\u001b[1;32m      8\u001b[0m \u001b[38;5;66;03m# # Perform BLAST search\u001b[39;00m\n\u001b[1;32m      9\u001b[0m \u001b[38;5;66;03m# result_handle = NCBIWWW.qblast(\"blastp\", \"nr\", sequence.seq)\u001b[39;00m\n\u001b[1;32m     10\u001b[0m \n\u001b[0;32m   (...)\u001b[0m\n\u001b[1;32m     13\u001b[0m \u001b[38;5;66;03m#     out_handle.write(result_handle.read())\u001b[39;00m\n\u001b[1;32m     14\u001b[0m \u001b[38;5;66;03m# result_handle.close()\u001b[39;00m\n",
      "File \u001b[0;32m/stor/work/Marcotte/project/Software/miniconda3_shared/envs/membrane_proteome/lib/python3.8/site-packages/Bio/SeqIO/__init__.py:659\u001b[0m, in \u001b[0;36mread\u001b[0;34m(handle, format, alphabet)\u001b[0m\n\u001b[1;32m    657\u001b[0m \u001b[38;5;28;01mtry\u001b[39;00m:\n\u001b[1;32m    658\u001b[0m     \u001b[38;5;28mnext\u001b[39m(iterator)\n\u001b[0;32m--> 659\u001b[0m     \u001b[38;5;28;01mraise\u001b[39;00m \u001b[38;5;167;01mValueError\u001b[39;00m(\u001b[38;5;124m\"\u001b[39m\u001b[38;5;124mMore than one record found in handle\u001b[39m\u001b[38;5;124m\"\u001b[39m)\n\u001b[1;32m    660\u001b[0m \u001b[38;5;28;01mexcept\u001b[39;00m \u001b[38;5;167;01mStopIteration\u001b[39;00m:\n\u001b[1;32m    661\u001b[0m     \u001b[38;5;28;01mpass\u001b[39;00m\n",
      "\u001b[0;31mValueError\u001b[0m: More than one record found in handle"
     ]
    }
   ],
   "source": [
    "from Bio.Blast import NCBIWWW\n",
    "from Bio import SeqIO\n",
    "\n",
    "# Load protein sequence\n",
    "sequence = SeqIO.read(\"data/reference/Guaymas2020_allScaffolds_top5weightededges.fasta\", format=\"fasta\")\n",
    "\n",
    "# # Perform BLAST search\n",
    "# result_handle = NCBIWWW.qblast(\"blastp\", \"nr\", sequence.seq)\n",
    "\n",
    "# # Save the results\n",
    "# with open(\"results.xml\", \"w\") as out_handle:\n",
    "#     out_handle.write(result_handle.read())\n",
    "# result_handle.close()\n"
   ]
  },
  {
   "cell_type": "code",
   "execution_count": 13,
   "metadata": {},
   "outputs": [],
   "source": [
    "from Bio.Blast import NCBIWWW\n",
    "from Bio import SeqIO\n",
    "from Bio.Blast import NCBIXML\n",
    "import csv\n",
    "\n",
    "# Reading your FASTA file\n",
    "with open(\"data/reference/Guaymas2020_allScaffolds_top5weightededges.fasta\", \"r\") as fasta_file:\n",
    "    sequences = fasta_file.read()\n",
    "#sequences\n",
    "\n",
    "# Perform a BLAST search for all sequences in the file\n",
    "result_handle = NCBIWWW.qblast(\"blastp\", \"nr\", sequences)\n"
   ]
  },
  {
   "cell_type": "code",
   "execution_count": null,
   "metadata": {},
   "outputs": [],
   "source": [
    "# Save the results\n",
    "with open(\"data/reference/Guaymas2020_allScaffolds_top5weightededges_blastp_results.xml\", \"w\") as out_file:\n",
    "    out_file.write(result_handle.read())"
   ]
  },
  {
   "cell_type": "code",
   "execution_count": 11,
   "metadata": {},
   "outputs": [
    {
     "ename": "ValueError",
     "evalue": "I/O operation on closed file",
     "output_type": "error",
     "traceback": [
      "\u001b[0;31m---------------------------------------------------------------------------\u001b[0m",
      "\u001b[0;31mValueError\u001b[0m                                Traceback (most recent call last)",
      "Cell \u001b[0;32mIn[11], line 5\u001b[0m\n\u001b[1;32m      2\u001b[0m blast_records \u001b[38;5;241m=\u001b[39m NCBIXML\u001b[38;5;241m.\u001b[39mparse(result_handle)\n\u001b[1;32m      4\u001b[0m \u001b[38;5;66;03m# Iterate through each BLAST record\u001b[39;00m\n\u001b[0;32m----> 5\u001b[0m \u001b[38;5;28;01mfor\u001b[39;00m blast_record \u001b[38;5;129;01min\u001b[39;00m blast_records:\n\u001b[1;32m      6\u001b[0m     \u001b[38;5;28mprint\u001b[39m(\u001b[38;5;124mf\u001b[39m\u001b[38;5;124m\"\u001b[39m\u001b[38;5;124mQuery: \u001b[39m\u001b[38;5;132;01m{\u001b[39;00mblast_record\u001b[38;5;241m.\u001b[39mquery\u001b[38;5;132;01m}\u001b[39;00m\u001b[38;5;124m\"\u001b[39m)\n\u001b[1;32m      7\u001b[0m     \u001b[38;5;66;03m# Check if there are any alignments\u001b[39;00m\n",
      "File \u001b[0;32m/stor/work/Marcotte/project/Software/miniconda3_shared/envs/membrane_proteome/lib/python3.8/site-packages/Bio/Blast/NCBIXML.py:789\u001b[0m, in \u001b[0;36mparse\u001b[0;34m(handle, debug)\u001b[0m\n\u001b[1;32m    786\u001b[0m NULL \u001b[38;5;241m=\u001b[39m \u001b[38;5;124m\"\u001b[39m\u001b[38;5;124m\"\u001b[39m\n\u001b[1;32m    788\u001b[0m pending \u001b[38;5;241m=\u001b[39m \u001b[38;5;124m\"\u001b[39m\u001b[38;5;124m\"\u001b[39m\n\u001b[0;32m--> 789\u001b[0m text \u001b[38;5;241m=\u001b[39m \u001b[43mhandle\u001b[49m\u001b[38;5;241;43m.\u001b[39;49m\u001b[43mread\u001b[49m\u001b[43m(\u001b[49m\u001b[43mBLOCK\u001b[49m\u001b[43m)\u001b[49m\n\u001b[1;32m    790\u001b[0m \u001b[38;5;28;01mif\u001b[39;00m \u001b[38;5;28misinstance\u001b[39m(text, \u001b[38;5;28mbytes\u001b[39m):\n\u001b[1;32m    791\u001b[0m     \u001b[38;5;66;03m# Not a text handle, raw bytes mode\u001b[39;00m\n\u001b[1;32m    792\u001b[0m     XML_START \u001b[38;5;241m=\u001b[39m \u001b[38;5;124mb\u001b[39m\u001b[38;5;124m\"\u001b[39m\u001b[38;5;124m<?xml\u001b[39m\u001b[38;5;124m\"\u001b[39m\n",
      "\u001b[0;31mValueError\u001b[0m: I/O operation on closed file"
     ]
    }
   ],
   "source": [
    "#Quick check to see if the BLAST search was successful\n",
    "blast_records = NCBIXML.parse(result_handle)\n",
    "\n",
    "# Iterate through each BLAST record\n",
    "for blast_record in blast_records:\n",
    "    print(f\"Query: {blast_record.query}\")\n",
    "    # Check if there are any alignments\n",
    "    if blast_record.alignments:\n",
    "        print(\"Found the following hits:\")\n",
    "        for alignment in blast_record.alignments:\n",
    "            print(f\"  Hit ID: {alignment.hit_id}\")\n",
    "            print(f\"  Title: {alignment.title}\")\n",
    "            print(f\"  Length: {alignment.length}\")\n",
    "            print(f\"  Score: {alignment.hsps[0].score}\")\n",
    "            print(f\"  E-value: {alignment.hsps[0].expect}\")\n",
    "    else:\n",
    "        print(\"No hits found\")\n",
    "\n",
    "result_handle.close()\n"
   ]
  },
  {
   "cell_type": "code",
   "execution_count": 9,
   "metadata": {},
   "outputs": [
    {
     "name": "stdout",
     "output_type": "stream",
     "text": [
      "[<Bio.Blast.Record.Alignment object at 0x7f5980bea970>, <Bio.Blast.Record.Alignment object at 0x7f5981032ee0>, <Bio.Blast.Record.Alignment object at 0x7f5981032e20>, <Bio.Blast.Record.Alignment object at 0x7f5981091c70>, <Bio.Blast.Record.Alignment object at 0x7f5981091a00>, <Bio.Blast.Record.Alignment object at 0x7f5981091760>, <Bio.Blast.Record.Alignment object at 0x7f5981091460>, <Bio.Blast.Record.Alignment object at 0x7f5981091160>, <Bio.Blast.Record.Alignment object at 0x7f59810916a0>, <Bio.Blast.Record.Alignment object at 0x7f5981091e50>, <Bio.Blast.Record.Alignment object at 0x7f59810914c0>, <Bio.Blast.Record.Alignment object at 0x7f5981091d00>, <Bio.Blast.Record.Alignment object at 0x7f59810917c0>, <Bio.Blast.Record.Alignment object at 0x7f5981091280>, <Bio.Blast.Record.Alignment object at 0x7f5981091df0>, <Bio.Blast.Record.Alignment object at 0x7f59810912e0>, <Bio.Blast.Record.Alignment object at 0x7f5980bf3c40>, <Bio.Blast.Record.Alignment object at 0x7f5980bf3e20>, <Bio.Blast.Record.Alignment object at 0x7f5980bf3d00>, <Bio.Blast.Record.Alignment object at 0x7f5980bf3fd0>, <Bio.Blast.Record.Alignment object at 0x7f59b4072910>, <Bio.Blast.Record.Alignment object at 0x7f5980bf3e50>, <Bio.Blast.Record.Alignment object at 0x7f5980bf3910>, <Bio.Blast.Record.Alignment object at 0x7f5980bf3cd0>, <Bio.Blast.Record.Alignment object at 0x7f5980bf3b80>, <Bio.Blast.Record.Alignment object at 0x7f5980bf3e80>, <Bio.Blast.Record.Alignment object at 0x7f5980bf3970>, <Bio.Blast.Record.Alignment object at 0x7f5980bf3ee0>, <Bio.Blast.Record.Alignment object at 0x7f5980bea7f0>, <Bio.Blast.Record.Alignment object at 0x7f5980beaa00>, <Bio.Blast.Record.Alignment object at 0x7f5980beab20>, <Bio.Blast.Record.Alignment object at 0x7f5980beaaf0>, <Bio.Blast.Record.Alignment object at 0x7f5980beabe0>, <Bio.Blast.Record.Alignment object at 0x7f5980bead00>, <Bio.Blast.Record.Alignment object at 0x7f5980beadc0>, <Bio.Blast.Record.Alignment object at 0x7f5980beae80>, <Bio.Blast.Record.Alignment object at 0x7f5980beaf70>, <Bio.Blast.Record.Alignment object at 0x7f5980bea910>, <Bio.Blast.Record.Alignment object at 0x7f5980beab80>, <Bio.Blast.Record.Alignment object at 0x7f5980beac10>, <Bio.Blast.Record.Alignment object at 0x7f5981049340>, <Bio.Blast.Record.Alignment object at 0x7f5981049760>, <Bio.Blast.Record.Alignment object at 0x7f5981049670>, <Bio.Blast.Record.Alignment object at 0x7f5981049310>, <Bio.Blast.Record.Alignment object at 0x7f59810492e0>, <Bio.Blast.Record.Alignment object at 0x7f59810491c0>, <Bio.Blast.Record.Alignment object at 0x7f59810494f0>, <Bio.Blast.Record.Alignment object at 0x7f5981049490>, <Bio.Blast.Record.Alignment object at 0x7f5981049070>, <Bio.Blast.Record.Alignment object at 0x7f5981049ac0>]\n",
      "[<Bio.Blast.Record.Alignment object at 0x7f5981049430>, <Bio.Blast.Record.Alignment object at 0x7f59b48d4af0>, <Bio.Blast.Record.Alignment object at 0x7f5980bf3370>, <Bio.Blast.Record.Alignment object at 0x7f5980bf3190>, <Bio.Blast.Record.Alignment object at 0x7f5980bf3340>, <Bio.Blast.Record.Alignment object at 0x7f5980bf3610>, <Bio.Blast.Record.Alignment object at 0x7f5980bf3820>, <Bio.Blast.Record.Alignment object at 0x7f5980bf3400>, <Bio.Blast.Record.Alignment object at 0x7f5980bf32e0>, <Bio.Blast.Record.Alignment object at 0x7f5980bf32b0>, <Bio.Blast.Record.Alignment object at 0x7f5980bf3310>, <Bio.Blast.Record.Alignment object at 0x7f5980bf31f0>, <Bio.Blast.Record.Alignment object at 0x7f5980bf33a0>, <Bio.Blast.Record.Alignment object at 0x7f5980bf31c0>, <Bio.Blast.Record.Alignment object at 0x7f5980bf36a0>, <Bio.Blast.Record.Alignment object at 0x7f5980bf3160>, <Bio.Blast.Record.Alignment object at 0x7f5980bf3130>, <Bio.Blast.Record.Alignment object at 0x7f5980bf3040>, <Bio.Blast.Record.Alignment object at 0x7f598104c3a0>, <Bio.Blast.Record.Alignment object at 0x7f598104c6d0>, <Bio.Blast.Record.Alignment object at 0x7f598104c910>, <Bio.Blast.Record.Alignment object at 0x7f598104caf0>, <Bio.Blast.Record.Alignment object at 0x7f598104cca0>, <Bio.Blast.Record.Alignment object at 0x7f598104cc40>, <Bio.Blast.Record.Alignment object at 0x7f598104ce80>, <Bio.Blast.Record.Alignment object at 0x7f598104cf70>, <Bio.Blast.Record.Alignment object at 0x7f598104cc70>, <Bio.Blast.Record.Alignment object at 0x7f598104cd00>, <Bio.Blast.Record.Alignment object at 0x7f598104c640>, <Bio.Blast.Record.Alignment object at 0x7f598104ca90>, <Bio.Blast.Record.Alignment object at 0x7f598104cd30>, <Bio.Blast.Record.Alignment object at 0x7f598104cf10>, <Bio.Blast.Record.Alignment object at 0x7f598104cd90>, <Bio.Blast.Record.Alignment object at 0x7f5980bea0d0>, <Bio.Blast.Record.Alignment object at 0x7f5980bea280>, <Bio.Blast.Record.Alignment object at 0x7f5980bea220>, <Bio.Blast.Record.Alignment object at 0x7f5980bea460>, <Bio.Blast.Record.Alignment object at 0x7f5980bea550>, <Bio.Blast.Record.Alignment object at 0x7f5980bea790>, <Bio.Blast.Record.Alignment object at 0x7f59b4072640>, <Bio.Blast.Record.Alignment object at 0x7f598104c730>, <Bio.Blast.Record.Alignment object at 0x7f598104c580>, <Bio.Blast.Record.Alignment object at 0x7f5980bea1c0>, <Bio.Blast.Record.Alignment object at 0x7f5980bea940>, <Bio.Blast.Record.Alignment object at 0x7f5980bea520>, <Bio.Blast.Record.Alignment object at 0x7f5980bea760>, <Bio.Blast.Record.Alignment object at 0x7f5980bea160>, <Bio.Blast.Record.Alignment object at 0x7f5980bea340>, <Bio.Blast.Record.Alignment object at 0x7f5980bea670>, <Bio.Blast.Record.Alignment object at 0x7f5980bea850>]\n",
      "[<Bio.Blast.Record.Alignment object at 0x7f59b4072910>, <Bio.Blast.Record.Alignment object at 0x7f5981032e50>, <Bio.Blast.Record.Alignment object at 0x7f5981032df0>, <Bio.Blast.Record.Alignment object at 0x7f5981091c70>, <Bio.Blast.Record.Alignment object at 0x7f5981091850>, <Bio.Blast.Record.Alignment object at 0x7f5981091460>, <Bio.Blast.Record.Alignment object at 0x7f59810916d0>, <Bio.Blast.Record.Alignment object at 0x7f5981091e50>, <Bio.Blast.Record.Alignment object at 0x7f59810912b0>, <Bio.Blast.Record.Alignment object at 0x7f59810917c0>, <Bio.Blast.Record.Alignment object at 0x7f5981091880>, <Bio.Blast.Record.Alignment object at 0x7f5981091640>, <Bio.Blast.Record.Alignment object at 0x7f5981091490>, <Bio.Blast.Record.Alignment object at 0x7f59810914f0>, <Bio.Blast.Record.Alignment object at 0x7f5981091910>, <Bio.Blast.Record.Alignment object at 0x7f5980bf3c10>, <Bio.Blast.Record.Alignment object at 0x7f5980bf3a90>, <Bio.Blast.Record.Alignment object at 0x7f5980bf3d00>, <Bio.Blast.Record.Alignment object at 0x7f5980bf3c70>, <Bio.Blast.Record.Alignment object at 0x7f5980bf39a0>, <Bio.Blast.Record.Alignment object at 0x7f5980bf3cd0>, <Bio.Blast.Record.Alignment object at 0x7f5980bf3ca0>, <Bio.Blast.Record.Alignment object at 0x7f5980bf3970>, <Bio.Blast.Record.Alignment object at 0x7f5980bf3a00>, <Bio.Blast.Record.Alignment object at 0x7f5980bf3b50>, <Bio.Blast.Record.Alignment object at 0x7f5980bf3df0>, <Bio.Blast.Record.Alignment object at 0x7f5980bf3d30>, <Bio.Blast.Record.Alignment object at 0x7f5980bf3eb0>, <Bio.Blast.Record.Alignment object at 0x7f5980bea970>, <Bio.Blast.Record.Alignment object at 0x7f5980beaac0>, <Bio.Blast.Record.Alignment object at 0x7f5980beab20>, <Bio.Blast.Record.Alignment object at 0x7f5980beaca0>, <Bio.Blast.Record.Alignment object at 0x7f5980bead00>, <Bio.Blast.Record.Alignment object at 0x7f5980beaee0>, <Bio.Blast.Record.Alignment object at 0x7f5980beaf70>, <Bio.Blast.Record.Alignment object at 0x7f5980beacd0>, <Bio.Blast.Record.Alignment object at 0x7f5980beac10>, <Bio.Blast.Record.Alignment object at 0x7f5980bea9d0>, <Bio.Blast.Record.Alignment object at 0x7f5980beac70>, <Bio.Blast.Record.Alignment object at 0x7f5980beae20>, <Bio.Blast.Record.Alignment object at 0x7f5980beafa0>, <Bio.Blast.Record.Alignment object at 0x7f5981049eb0>, <Bio.Blast.Record.Alignment object at 0x7f59810499d0>, <Bio.Blast.Record.Alignment object at 0x7f5981049670>, <Bio.Blast.Record.Alignment object at 0x7f5981049520>, <Bio.Blast.Record.Alignment object at 0x7f59810491c0>, <Bio.Blast.Record.Alignment object at 0x7f5981049460>, <Bio.Blast.Record.Alignment object at 0x7f5981049070>, <Bio.Blast.Record.Alignment object at 0x7f59810490a0>, <Bio.Blast.Record.Alignment object at 0x7f5981049850>]\n",
      "[<Bio.Blast.Record.Alignment object at 0x7f5981049d00>, <Bio.Blast.Record.Alignment object at 0x7f5980bf3370>, <Bio.Blast.Record.Alignment object at 0x7f598242d1f0>, <Bio.Blast.Record.Alignment object at 0x7f5980bf34f0>, <Bio.Blast.Record.Alignment object at 0x7f5980bf3610>, <Bio.Blast.Record.Alignment object at 0x7f5980bf3490>, <Bio.Blast.Record.Alignment object at 0x7f5980bf32e0>, <Bio.Blast.Record.Alignment object at 0x7f5980bf3580>, <Bio.Blast.Record.Alignment object at 0x7f5980bf31f0>, <Bio.Blast.Record.Alignment object at 0x7f5980bf3460>, <Bio.Blast.Record.Alignment object at 0x7f5980bf36a0>, <Bio.Blast.Record.Alignment object at 0x7f5980bf3700>, <Bio.Blast.Record.Alignment object at 0x7f5980bf3250>, <Bio.Blast.Record.Alignment object at 0x7f5980bf35e0>, <Bio.Blast.Record.Alignment object at 0x7f5980bf37f0>, <Bio.Blast.Record.Alignment object at 0x7f5980bf38b0>, <Bio.Blast.Record.Alignment object at 0x7f5980bf3790>, <Bio.Blast.Record.Alignment object at 0x7f5980bf3520>, <Bio.Blast.Record.Alignment object at 0x7f59b4072580>, <Bio.Blast.Record.Alignment object at 0x7f598104c3a0>, <Bio.Blast.Record.Alignment object at 0x7f598104ca30>, <Bio.Blast.Record.Alignment object at 0x7f598104caf0>, <Bio.Blast.Record.Alignment object at 0x7f598104cdc0>, <Bio.Blast.Record.Alignment object at 0x7f598104ce80>, <Bio.Blast.Record.Alignment object at 0x7f598104ce20>, <Bio.Blast.Record.Alignment object at 0x7f598104cd00>, <Bio.Blast.Record.Alignment object at 0x7f598104cbb0>, <Bio.Blast.Record.Alignment object at 0x7f598104cd30>, <Bio.Blast.Record.Alignment object at 0x7f598104cd90>, <Bio.Blast.Record.Alignment object at 0x7f598104c580>, <Bio.Blast.Record.Alignment object at 0x7f598104ca60>, <Bio.Blast.Record.Alignment object at 0x7f598104ce50>, <Bio.Blast.Record.Alignment object at 0x7f598104cb50>, <Bio.Blast.Record.Alignment object at 0x7f598104cb80>, <Bio.Blast.Record.Alignment object at 0x7f598104cf40>, <Bio.Blast.Record.Alignment object at 0x7f5980beaa30>, <Bio.Blast.Record.Alignment object at 0x7f5980bea2b0>, <Bio.Blast.Record.Alignment object at 0x7f5980bea220>, <Bio.Blast.Record.Alignment object at 0x7f5980bea580>, <Bio.Blast.Record.Alignment object at 0x7f5980bea790>, <Bio.Blast.Record.Alignment object at 0x7f5980bea1c0>, <Bio.Blast.Record.Alignment object at 0x7f5980bea5b0>, <Bio.Blast.Record.Alignment object at 0x7f5980bea760>, <Bio.Blast.Record.Alignment object at 0x7f5980bea4f0>, <Bio.Blast.Record.Alignment object at 0x7f5980bea670>, <Bio.Blast.Record.Alignment object at 0x7f5980bea100>, <Bio.Blast.Record.Alignment object at 0x7f5980bea3d0>, <Bio.Blast.Record.Alignment object at 0x7f5980bea0a0>, <Bio.Blast.Record.Alignment object at 0x7f5980beaa60>, <Bio.Blast.Record.Alignment object at 0x7f5980bea6a0>]\n"
     ]
    }
   ],
   "source": [
    "#Print out the first few records to see if the BLAST search was successful\n",
    "for i, record in enumerate(blast_records):\n",
    "    if i < 5:\n",
    "        print(record.alignments)\n",
    "    else:\n",
    "        break"
   ]
  },
  {
   "cell_type": "code",
   "execution_count": 10,
   "metadata": {},
   "outputs": [],
   "source": [
    "\n",
    "# Save the results\n",
    "# with open(\"data/reference/Guaymas2020_allScaffolds_top5weightededges_blastp_results.xml\", \"w\") as out_file:\n",
    "    # out_file.write(result_handle.read())\n",
    "\n",
    "with open('data/reference/Guaymas2020_allScaffolds_top5weightededges_blastp_results.csv', 'w', newline='') as csvfile:\n",
    "    fieldnames = ['sequence', 'length', 'e_value', 'score']\n",
    "    writer = csv.DictWriter(csvfile, fieldnames=fieldnames)\n",
    "\n",
    "    writer.writeheader()\n",
    "    for blast_record in blast_records:\n",
    "        for alignment in blast_record.alignments:\n",
    "            for hsp in alignment.hsps:\n",
    "                writer.writerow({\n",
    "                    'sequence': alignment.title,\n",
    "                    'length': alignment.length,\n",
    "                    'e_value': hsp.expect,\n",
    "                    'score': hsp.score\n",
    "                })\n",
    "\n",
    "result_handle.close()\n",
    "\n",
    "\n"
   ]
  },
  {
   "cell_type": "code",
   "execution_count": 6,
   "metadata": {},
   "outputs": [
    {
     "data": {
      "text/html": [
       "<div>\n",
       "<style scoped>\n",
       "    .dataframe tbody tr th:only-of-type {\n",
       "        vertical-align: middle;\n",
       "    }\n",
       "\n",
       "    .dataframe tbody tr th {\n",
       "        vertical-align: top;\n",
       "    }\n",
       "\n",
       "    .dataframe thead th {\n",
       "        text-align: right;\n",
       "    }\n",
       "</style>\n",
       "<table border=\"1\" class=\"dataframe\">\n",
       "  <thead>\n",
       "    <tr style=\"text-align: right;\">\n",
       "      <th></th>\n",
       "      <th>0</th>\n",
       "      <th>1</th>\n",
       "    </tr>\n",
       "  </thead>\n",
       "  <tbody>\n",
       "    <tr>\n",
       "      <th>0</th>\n",
       "      <td>D4998_C1112_H2-scaffold_242977_1_100</td>\n",
       "      <td>D4998_C1112_H2-scaffold_242977_1_100</td>\n",
       "    </tr>\n",
       "    <tr>\n",
       "      <th>1</th>\n",
       "      <td>D4998_C1112_H2-scaffold_239615_8_100</td>\n",
       "      <td>D4998_C1112_H2-scaffold_239615_8_100</td>\n",
       "    </tr>\n",
       "    <tr>\n",
       "      <th>2</th>\n",
       "      <td>D4998_C1112_H2-scaffold_238930_1_100</td>\n",
       "      <td>D4998_C1112_H2-scaffold_238930_1_100</td>\n",
       "    </tr>\n",
       "    <tr>\n",
       "      <th>3</th>\n",
       "      <td>D4998_C1112_H2-scaffold_238985_4_100</td>\n",
       "      <td>D4998_C1112_H2-scaffold_238985_4_100</td>\n",
       "    </tr>\n",
       "    <tr>\n",
       "      <th>4</th>\n",
       "      <td>D4998_C1112_H2-scaffold_238985_4_100</td>\n",
       "      <td>D4994_C39_H2_Bin_54_scaffold_39422_14_99</td>\n",
       "    </tr>\n",
       "  </tbody>\n",
       "</table>\n",
       "</div>"
      ],
      "text/plain": [
       "                                      0  \\\n",
       "0  D4998_C1112_H2-scaffold_242977_1_100   \n",
       "1  D4998_C1112_H2-scaffold_239615_8_100   \n",
       "2  D4998_C1112_H2-scaffold_238930_1_100   \n",
       "3  D4998_C1112_H2-scaffold_238985_4_100   \n",
       "4  D4998_C1112_H2-scaffold_238985_4_100   \n",
       "\n",
       "                                          1  \n",
       "0      D4998_C1112_H2-scaffold_242977_1_100  \n",
       "1      D4998_C1112_H2-scaffold_239615_8_100  \n",
       "2      D4998_C1112_H2-scaffold_238930_1_100  \n",
       "3      D4998_C1112_H2-scaffold_238985_4_100  \n",
       "4  D4994_C39_H2_Bin_54_scaffold_39422_14_99  "
      ]
     },
     "execution_count": 6,
     "metadata": {},
     "output_type": "execute_result"
    }
   ],
   "source": [
    "#Let's look for the GuapO cluster!\n",
    "clusters.head()"
   ]
  },
  {
   "cell_type": "code",
   "execution_count": 22,
   "metadata": {},
   "outputs": [
    {
     "data": {
      "text/html": [
       "<div>\n",
       "<style scoped>\n",
       "    .dataframe tbody tr th:only-of-type {\n",
       "        vertical-align: middle;\n",
       "    }\n",
       "\n",
       "    .dataframe tbody tr th {\n",
       "        vertical-align: top;\n",
       "    }\n",
       "\n",
       "    .dataframe thead th {\n",
       "        text-align: right;\n",
       "    }\n",
       "</style>\n",
       "<table border=\"1\" class=\"dataframe\">\n",
       "  <thead>\n",
       "    <tr style=\"text-align: right;\">\n",
       "      <th></th>\n",
       "      <th>0</th>\n",
       "      <th>1</th>\n",
       "    </tr>\n",
       "  </thead>\n",
       "  <tbody>\n",
       "    <tr>\n",
       "      <th>786951</th>\n",
       "      <td>D4998_C1112_H3_Bin_236_scaffold_103142_8_115</td>\n",
       "      <td>D4998_C1112_H3_Bin_236_scaffold_103142_8_115</td>\n",
       "    </tr>\n",
       "    <tr>\n",
       "      <th>786952</th>\n",
       "      <td>D4998_C1112_H3_Bin_236_scaffold_103142_8_115</td>\n",
       "      <td>D4994_C39_H1_Bin_323_scaffold_182250_2_89</td>\n",
       "    </tr>\n",
       "    <tr>\n",
       "      <th>786953</th>\n",
       "      <td>D4998_C1112_H3_Bin_236_scaffold_103142_8_115</td>\n",
       "      <td>D4998_C1112_H2-scaffold_60242_2_100</td>\n",
       "    </tr>\n",
       "  </tbody>\n",
       "</table>\n",
       "</div>"
      ],
      "text/plain": [
       "                                                   0  \\\n",
       "786951  D4998_C1112_H3_Bin_236_scaffold_103142_8_115   \n",
       "786952  D4998_C1112_H3_Bin_236_scaffold_103142_8_115   \n",
       "786953  D4998_C1112_H3_Bin_236_scaffold_103142_8_115   \n",
       "\n",
       "                                                   1  \n",
       "786951  D4998_C1112_H3_Bin_236_scaffold_103142_8_115  \n",
       "786952     D4994_C39_H1_Bin_323_scaffold_182250_2_89  \n",
       "786953           D4998_C1112_H2-scaffold_60242_2_100  "
      ]
     },
     "execution_count": 22,
     "metadata": {},
     "output_type": "execute_result"
    }
   ],
   "source": [
    "clusters[clusters[0].str.contains('D4998_C1112_H3_Bin_236_scaffold_103142_8_115')] #Guaymas1 is a node of 3 that contains itself, D4994_C39_H1_Bin_323_scaffold_182250_2_89, and D4998_C1112_H2-scaffold_60242_2_100\n",
    "#clusters[clusters[0].str.contains('D4994_C39_H1-scaffold_41179_3_89')] #Guaymas4 (D4994_C39_H2_Bin_234_scaffold_60347_1) is in a node called D4994_C39_H1-scaffold_41179_3_89 which has 2 members. \n",
    "#GuapO is NOT IN THIS DATASET because it is a lower temperature than 80C... voomph. The more I think about this, we got so lucky!!\n"
   ]
  },
  {
   "cell_type": "markdown",
   "metadata": {},
   "source": [
    "### Re-ran Operon Graph with 30% sequence similarity on all of the Guaymas 2020 data (deduplicated)"
   ]
  },
  {
   "cell_type": "code",
   "execution_count": 2,
   "metadata": {},
   "outputs": [],
   "source": [
    "input_fp = 'data/Guaymas2020_Scaffolds_Bins_deduplicated_hottest_mmseqs_clu30.tsv'"
   ]
  },
  {
   "cell_type": "code",
   "execution_count": 3,
   "metadata": {},
   "outputs": [
    {
     "data": {
      "text/html": [
       "<div>\n",
       "<style scoped>\n",
       "    .dataframe tbody tr th:only-of-type {\n",
       "        vertical-align: middle;\n",
       "    }\n",
       "\n",
       "    .dataframe tbody tr th {\n",
       "        vertical-align: top;\n",
       "    }\n",
       "\n",
       "    .dataframe thead th {\n",
       "        text-align: right;\n",
       "    }\n",
       "</style>\n",
       "<table border=\"1\" class=\"dataframe\">\n",
       "  <thead>\n",
       "    <tr style=\"text-align: right;\">\n",
       "      <th></th>\n",
       "      <th>1</th>\n",
       "    </tr>\n",
       "    <tr>\n",
       "      <th>0</th>\n",
       "      <th></th>\n",
       "    </tr>\n",
       "  </thead>\n",
       "  <tbody>\n",
       "    <tr>\n",
       "      <th>D4993_C5_H2-scaffold_11532_1_72</th>\n",
       "      <td>4472</td>\n",
       "    </tr>\n",
       "    <tr>\n",
       "      <th>D4993_C5_H3-scaffold_305190_1_33</th>\n",
       "      <td>3306</td>\n",
       "    </tr>\n",
       "    <tr>\n",
       "      <th>D4994_C39_H2-scaffold_13742_5_99</th>\n",
       "      <td>2636</td>\n",
       "    </tr>\n",
       "    <tr>\n",
       "      <th>D4993_C5_H1_Bin_367_scaffold_175031_3_29</th>\n",
       "      <td>2551</td>\n",
       "    </tr>\n",
       "    <tr>\n",
       "      <th>D4994_C39_H2_Bin_4_scaffold_80904_2_99</th>\n",
       "      <td>2296</td>\n",
       "    </tr>\n",
       "  </tbody>\n",
       "</table>\n",
       "</div>"
      ],
      "text/plain": [
       "                                             1\n",
       "0                                             \n",
       "D4993_C5_H2-scaffold_11532_1_72           4472\n",
       "D4993_C5_H3-scaffold_305190_1_33          3306\n",
       "D4994_C39_H2-scaffold_13742_5_99          2636\n",
       "D4993_C5_H1_Bin_367_scaffold_175031_3_29  2551\n",
       "D4994_C39_H2_Bin_4_scaffold_80904_2_99    2296"
      ]
     },
     "execution_count": 3,
     "metadata": {},
     "output_type": "execute_result"
    }
   ],
   "source": [
    "#Looking into the number of mmseqs clusters\n",
    "#Went from  26,904,368 proteins to , 7,368,354 clusters clustered at 30%,  \n",
    "import pandas as pd\n",
    "#Read in the cluster tsv file\n",
    "clusters = pd.read_csv(input_fp, sep='\\t', header=None)\n",
    "clusters.head()\n",
    "#Group by the cluster number and count the number of sequences in each cluster\n",
    "cluster_counts = clusters.groupby(0).count()\n",
    "cluster_counts.head()\n",
    "#Sort the clusters by the number of sequences\n",
    "cluster_counts.sort_values(by=1, ascending=False, inplace=True)\n",
    "cluster_counts.head()\n"
   ]
  },
  {
   "cell_type": "code",
   "execution_count": 4,
   "metadata": {},
   "outputs": [
    {
     "data": {
      "image/png": "[encoded data removed]",
      "text/plain": [
       "<Figure size 640x480 with 1 Axes>"
      ]
     },
     "metadata": {},
     "output_type": "display_data"
    }
   ],
   "source": [
    "#Plot histogram of the number of sequences in each cluster\n",
    "plt.hist(cluster_counts[1], bins=100)\n",
    "#Make y axis log scale\n",
    "plt.yscale('log')\n",
    "plt.xlabel('Number of sequences in cluster')\n",
    "plt.ylabel('Number of clusters')\n",
    "plt.title('Guaymas 2020 $^\\circ$C 30% mmseqs Clusters ')\n",
    "#plt.show()\n",
    "#Write plot to png\n",
    "plt.savefig('data/Guaymas2020_30mmseqs_clusters_histogram_05012024.png')\n"
   ]
  },
  {
   "cell_type": "code",
   "execution_count": 5,
   "metadata": {},
   "outputs": [
    {
     "data": {
      "text/plain": [
       "(7368354, 1)"
      ]
     },
     "execution_count": 5,
     "metadata": {},
     "output_type": "execute_result"
    }
   ],
   "source": [
    "cluster_counts.shape"
   ]
  },
  {
   "cell_type": "code",
   "execution_count": 7,
   "metadata": {},
   "outputs": [
    {
     "data": {
      "text/html": [
       "<div>\n",
       "<style scoped>\n",
       "    .dataframe tbody tr th:only-of-type {\n",
       "        vertical-align: middle;\n",
       "    }\n",
       "\n",
       "    .dataframe tbody tr th {\n",
       "        vertical-align: top;\n",
       "    }\n",
       "\n",
       "    .dataframe thead th {\n",
       "        text-align: right;\n",
       "    }\n",
       "</style>\n",
       "<table border=\"1\" class=\"dataframe\">\n",
       "  <thead>\n",
       "    <tr style=\"text-align: right;\">\n",
       "      <th></th>\n",
       "      <th>0</th>\n",
       "      <th>1</th>\n",
       "    </tr>\n",
       "  </thead>\n",
       "  <tbody>\n",
       "    <tr>\n",
       "      <th>7686953</th>\n",
       "      <td>D4994_C39_H1-scaffold_122948_1_89</td>\n",
       "      <td>D4993_C5_H4_Bin_238_scaffold_20386_9_39</td>\n",
       "    </tr>\n",
       "  </tbody>\n",
       "</table>\n",
       "</div>"
      ],
      "text/plain": [
       "                                         0  \\\n",
       "7686953  D4994_C39_H1-scaffold_122948_1_89   \n",
       "\n",
       "                                               1  \n",
       "7686953  D4993_C5_H4_Bin_238_scaffold_20386_9_39  "
      ]
     },
     "execution_count": 7,
     "metadata": {},
     "output_type": "execute_result"
    }
   ],
   "source": [
    "#Want to find the GuapO cluster, GuaPO is D4993_C5_H4_Bin_238_scaffold_20386_9\n",
    "clusters[clusters[1].str.contains('D4993_C5_H4_Bin_238_scaffold_20386_9')] #GuaPO is in this cluster: D4994_C39_H1-scaffold_122948_1_89"
   ]
  },
  {
   "cell_type": "code",
   "execution_count": 8,
   "metadata": {},
   "outputs": [],
   "source": [
    "#Read in graph!\n",
    "G = gml.read_gml('data/GRAPH_ALL_Guaymas2020_hottest_clu30_May62024.gml')"
   ]
  },
  {
   "cell_type": "code",
   "execution_count": 12,
   "metadata": {},
   "outputs": [],
   "source": [
    "#Get me an ego graph!!\n",
    "Guapo_G = nx.ego_graph(G, 'D4994_C39_H1-scaffold_122948_1', radius=4)"
   ]
  },
  {
   "cell_type": "code",
   "execution_count": 13,
   "metadata": {},
   "outputs": [
    {
     "name": "stdout",
     "output_type": "stream",
     "text": [
      "saved nodes to data/GuaPO_clu30_nodes.tsv\n",
      "saved edges to data/GuaPO_clu30_edges.tsv\n"
     ]
    }
   ],
   "source": [
    "#Write out smol graph to tsvs for cosmograph! \n",
    "output_nodes_tsv = 'data/GuaPO_clu30_nodes.tsv'\n",
    "output_edges_tsv = 'data/GuaPO_clu30_edges.tsv'\n",
    "\n",
    "with open(output_nodes_tsv, 'w') as node_file:\n",
    "    node_file.write(\"NodeId\\tlabel\\n\")  # Modify based on your node attributes\n",
    "    for node, data in Guapo_G.nodes(data=True):\n",
    "        # Write node and attributes to the file, ensure attributes match what's in your graph\n",
    "        node_file.write(f\"{node}\\t{data.get('label', '')}\\n\")\n",
    "print(f'saved nodes to {output_nodes_tsv}')\n",
    "# Open a file to write the edge data\n",
    "with open(output_edges_tsv, 'w') as edge_file:\n",
    "    edge_file.write(\"Source\\tTarget\\tWeight\\n\")  # Modify if you have different or additional attributes\n",
    "    for source, target, data in Guapo_G.edges(data=True):\n",
    "        # Write edge and attributes to the file, ensure attributes match what's in your graph\n",
    "        edge_file.write(f\"{source}\\t{target}\\t{data.get('weight', '')}\\n\")\n",
    "print(f'saved edges to {output_edges_tsv}')"
   ]
  },
  {
   "cell_type": "code",
   "execution_count": null,
   "metadata": {},
   "outputs": [],
   "source": []
  },
  {
   "cell_type": "code",
   "execution_count": null,
   "metadata": {},
   "outputs": [],
   "source": []
  },
  {
   "cell_type": "code",
   "execution_count": null,
   "metadata": {},
   "outputs": [],
   "source": []
  },
  {
   "cell_type": "code",
   "execution_count": null,
   "metadata": {},
   "outputs": [],
   "source": []
  },
  {
   "cell_type": "code",
   "execution_count": null,
   "metadata": {},
   "outputs": [],
   "source": []
  },
  {
   "cell_type": "code",
   "execution_count": null,
   "metadata": {},
   "outputs": [],
   "source": []
  },
  {
   "cell_type": "markdown",
   "metadata": {},
   "source": [
    "### Export .gml to .tsv"
   ]
  },
  {
   "cell_type": "code",
   "execution_count": null,
   "metadata": {},
   "outputs": [],
   "source": [
    "#Should we do this for the full set of Guaymas? Let's move forward with these for now and see how it goes.\n",
    "import networkx as nx\n",
    "\n",
    "# Load the graph from a GML file\n",
    "g = nx.read_gml('path_to_your_file.gml')\n",
    "\n",
    "# Open a TSV file to write the edge list\n",
    "with open('edges.tsv', 'w') as file:\n",
    "    # Optionally write headers (e.g., source, target)\n",
    "    file.write(\"source\\ttarget\\n\")\n",
    "    for edge in g.edges():\n",
    "        # Write each edge as a row in the TSV\n",
    "        file.write(f\"{edge[0]}\\t{edge[1]}\\n\")\n"
   ]
  }
 ],
 "metadata": {
  "kernelspec": {
   "display_name": "membrane_proteome",
   "language": "python",
   "name": "python3"
  },
  "language_info": {
   "codemirror_mode": {
    "name": "ipython",
    "version": 3
   },
   "file_extension": ".py",
   "mimetype": "text/x-python",
   "name": "python",
   "nbconvert_exporter": "python",
   "pygments_lexer": "ipython3",
   "version": "3.8.11"
  }
 },
 "nbformat": 4,
 "nbformat_minor": 2
}
